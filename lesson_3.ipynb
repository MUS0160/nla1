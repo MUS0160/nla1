{
 "cells": [
  {
   "attachments": {},
   "cell_type": "markdown",
   "metadata": {},
   "source": [
    "# Cvičení 3\n",
    "\n",
    "Tématem tohoto cvičení jsou přímé metody řešení soustav lineárních rovnic. Budeme se zabývat dopřednou a zpětnou substitucí a LU rozkladem."
   ]
  },
  {
   "attachments": {},
   "cell_type": "markdown",
   "metadata": {},
   "source": [
    "## Dopředná a zpětná substituce\n",
    "\n",
    "Základní princip přímých metod řešení soustav lineárních rovnic je převod matice soustavy na součin trojúhelníkových matic, např. \n",
    "$$\\mathsf{A} = \\mathsf{L}\\mathsf{U}.$$\n",
    "Soustavu $\\mathsf{A}\\mathbf{x} = \\mathbf{b}$ tak převedeme na tvar\n",
    "$$\\mathsf{L}\\mathsf{U}\\mathbf{x} = \\mathbf{b}$$\n",
    "a vyřešíme ji ve dvou krocích \n",
    "1) $\\mathsf{L}\\mathbf{y}=\\mathbf{b}$\n",
    "2) $\\mathsf{U}\\mathbf{x}=\\mathbf{y}$\n",
    "pomocí dopředné a zpětné substituce.\n",
    "\n",
    "V této části cvičení tedy nejdříve implementujeme funkce pro dopřednou a zpětnou substituci, které později využijeme k řešení soustav.\n",
    "\n",
    "### Testovací matice\n",
    "\n",
    "Nejprve vygenerujte testovací matice, pomocí kterých později zjistíte, zda vaše funkce pracují správně. Budete k tomu potřebovat\n",
    "- funkci z knihovny NumPy, pomocí které vygenerujete náhodnou matici o daném rozměru (znáte z prvního cvičení),\n",
    "- funkce `triu`, `tril` z knihovny NumPy (zjistěte v dokumentaci nebo pomocí Googlu, k čemu slouží a jak se používají)"
   ]
  },
  {
   "cell_type": "code",
   "execution_count": 1,
   "metadata": {},
   "outputs": [],
   "source": [
    "# ÚKOL: importujte potřebnou knihovnu NumPy pod zkratkou np\n",
    "import numpy as np"
   ]
  },
  {
   "cell_type": "code",
   "execution_count": 2,
   "metadata": {},
   "outputs": [
    {
     "name": "stdout",
     "output_type": "stream",
     "text": [
      "[[0.702 0.836 0.14  0.543]\n",
      " [0.991 0.074 0.285 0.034]\n",
      " [0.794 0.897 0.539 0.729]\n",
      " [0.687 0.471 0.188 0.128]]\n"
     ]
    }
   ],
   "source": [
    "# ÚKOL: vygenerujte matici A náhodných čísel o rozměrech 4x4\n",
    "A = np.random.rand(4,4)\n",
    "\n",
    "np.set_printoptions(precision=3) # pro lepší přehlednost\n",
    "print(A)"
   ]
  },
  {
   "cell_type": "code",
   "execution_count": 3,
   "metadata": {},
   "outputs": [
    {
     "name": "stdout",
     "output_type": "stream",
     "text": [
      "[[0.702 0.836 0.14  0.543]\n",
      " [0.    0.074 0.285 0.034]\n",
      " [0.    0.    0.539 0.729]\n",
      " [0.    0.    0.    0.128]]\n",
      "---------------------\n",
      "[[0.702 0.    0.    0.   ]\n",
      " [0.991 0.074 0.    0.   ]\n",
      " [0.794 0.897 0.539 0.   ]\n",
      " [0.687 0.471 0.188 0.128]]\n"
     ]
    }
   ],
   "source": [
    "# ÚKOL: pomocí vhodných funkcí z knihovny NumPy extrahujte z matice A její horní a dolní trojúhelníkovou část.\n",
    "U = np.triu(A)\n",
    "print(U)\n",
    "print(\"---------------------\")\n",
    "\n",
    "L = np.tril(A)\n",
    "print(L)\n",
    "\n",
    "# Ověřte funkčnost porovnáním s příslušnou částí matice A"
   ]
  },
  {
   "cell_type": "code",
   "execution_count": 4,
   "metadata": {},
   "outputs": [
    {
     "name": "stdout",
     "output_type": "stream",
     "text": [
      "(4, 1)\n",
      "[[0.468]\n",
      " [0.948]\n",
      " [0.873]\n",
      " [0.439]]\n"
     ]
    }
   ],
   "source": [
    "# ÚKOL: Vytvořte náhodný vektor b délky 4\n",
    "b = np.random.rand(4,1)\n",
    "print(np.shape(b))\n",
    "print(b)"
   ]
  },
  {
   "attachments": {},
   "cell_type": "markdown",
   "metadata": {},
   "source": [
    "### Dopředná substituce\n",
    "\n",
    "Soustavu s dolní trojúhelníkovou maticí $\\mathsf{L}\\mathbf{x}=\\mathbf{b}$ můžeme efektivně řešit pomocí algoritmu dopředné substituce. \n",
    "\n",
    "1) Určíme první prvek vektoru řešení\n",
    "$$x_1 = b_1 / L_{1, 1}$$\n",
    "\n",
    "2) Zbývající prvky určíme jako \n",
    "$$\\forall i \\in \\{2, 3, \\ldots, m\\}: x_i = (b_i - \\sum_{j=1}^{i-1}L_{i, j} x_j) / L_{i, i}$$\n",
    "\n",
    "Na základě těchto předpisů doplňte chybějící části následujícího kódu. Nezapomeňte ale, že v Pythonu indexujeme od nuly."
   ]
  },
  {
   "cell_type": "code",
   "execution_count": 5,
   "metadata": {},
   "outputs": [],
   "source": [
    "# ÚKOL: Doplňte následující kód\n",
    "\n",
    "def f_subst(L, b):\n",
    "    m, n =  np.shape(L)     # pomocí vhodné funkce numpy uložte do proměnných m, n počet řádků a sloupců L\n",
    "    x =  np.zeros(n)        # vytvořte vektor samých nul délky n\n",
    "    x[0] = b[0] / L[0, 0]   # první prvek řešení\n",
    "    for i in range(1, m):\n",
    "        # nejdříve pomocí vnořeného for cyklu určíme hodnotu sumy z kroku 2:\n",
    "        suma = 0\n",
    "        for j in range(0,i):    # doplňte vhodně meze smyčky\n",
    "            suma += L[i,j]*x[j] # doplňte\n",
    "        # odečteme sumu od prvku pravé strany a vydělíme diagonálním prvkem\n",
    "        x[i] = (b[i] - suma)/L[i,i]      # doplňte\n",
    "    return x\n"
   ]
  },
  {
   "cell_type": "code",
   "execution_count": 6,
   "metadata": {},
   "outputs": [
    {
     "name": "stdout",
     "output_type": "stream",
     "text": [
      "[ 0.666  3.9   -5.846 -5.881]\n"
     ]
    }
   ],
   "source": [
    "# Otestujte pomocí L, b\n",
    "x = f_subst(L, b)\n",
    "print(x)"
   ]
  },
  {
   "cell_type": "code",
   "execution_count": 7,
   "metadata": {},
   "outputs": [
    {
     "name": "stdout",
     "output_type": "stream",
     "text": [
      "[[ 0.666]\n",
      " [ 3.9  ]\n",
      " [-5.846]\n",
      " [-5.881]]\n"
     ]
    }
   ],
   "source": [
    "# ÚKOL: určete řešení pomocí funkce solve z numpy a porovnejte s vašim řešením\n",
    "x_numpy = np.linalg.solve(L,b)\n",
    "print(x_numpy)"
   ]
  },
  {
   "attachments": {},
   "cell_type": "markdown",
   "metadata": {},
   "source": [
    "### Zpětná substituce\n",
    "\n",
    "K vyřešení soustavy s horní trojúhelníkovou maticí $\\mathsf{U}\\mathbf{x} = \\mathbf{b}$ potřebujeme implementovat také algoritmus zpětné substituce. Ten je podobný dopředné substituci, postupuje však od posledního řádku:\n",
    "\n",
    "1) Určíme poslední prvek vektoru řešení \n",
    "$$x_m = b_m / U_{m,m}$$\n",
    "2) Určíme zbývající prvky\n",
    "$$\\forall i \\in \\{m-1, m-2, \\ldots, 1\\}: x_i = (b_i - \\sum_{j=i+1}^{m}U_{i, j}x_j) / U_{i, i}$$\n",
    "\n",
    "Implementujte v následující buňce vaši verzi zpětné substituce."
   ]
  },
  {
   "attachments": {},
   "cell_type": "markdown",
   "metadata": {},
   "source": [
    "**Poznámka** Při implementaci se vám bude hodit vědět, že funkce range umožňuje iterovat i \"pozpátku\". Vyzkoušejte si v následující buňce vytisknout přes jaká *i* iterují tyto `for` cykly:\n",
    "- `for i in range(6, 0, -1)`\n",
    "- `for i in range(6, -1, -1)`\n",
    "- `for i in range(6, 0, -2)`\n",
    "- `for i in range(0, -6, -1)`"
   ]
  },
  {
   "cell_type": "code",
   "execution_count": 8,
   "metadata": {},
   "outputs": [
    {
     "name": "stdout",
     "output_type": "stream",
     "text": [
      "0\n",
      "-1\n",
      "-2\n",
      "-3\n",
      "-4\n"
     ]
    }
   ],
   "source": [
    "# ÚKOL: Vytiskněte proměnnou i z příkladů v předchozí buňce.\n",
    "for i in range(0, -5, -1):\n",
    "    print(i)\n",
    "\n"
   ]
  },
  {
   "cell_type": "code",
   "execution_count": 9,
   "metadata": {},
   "outputs": [],
   "source": [
    "# ÚKOL: Implementujte algoritmus zpětné substituce.\n",
    "\n",
    "def b_subst(L, b):\n",
    "    m, n =  np.shape(L)     \n",
    "    x =  np.zeros(n)   \n",
    "    x[m-1] = b[m-1] / L[m-1, n-1]   \n",
    "    for i in range(m-2, -1, -1):\n",
    "        suma = 0\n",
    "        for j in range(m-1,i, -1):   \n",
    "            suma += L[i,j]*x[j] \n",
    "        x[i] = (b[i] - suma)/L[i,i]     \n",
    "    return x"
   ]
  },
  {
   "cell_type": "code",
   "execution_count": 10,
   "metadata": {},
   "outputs": [
    {
     "name": "stdout",
     "output_type": "stream",
     "text": [
      "[-28.592  22.848  -3.006   3.424]\n",
      "[[-28.592]\n",
      " [ 22.848]\n",
      " [ -3.006]\n",
      " [  3.424]]\n"
     ]
    }
   ],
   "source": [
    "# ÚKOL: ověřte pomocí numpy, že vaše funkce vrací správný výsledek\n",
    "\n",
    "x2 = b_subst(U, b)\n",
    "x2_numpy =  np.linalg.solve(U,b)\n",
    "print(x2)\n",
    "print(x2_numpy)"
   ]
  },
  {
   "attachments": {},
   "cell_type": "markdown",
   "metadata": {},
   "source": [
    "# Domácí úkol č. 1\n",
    "\n",
    "Algoritmus LU rozkladu lze popsat např. následujícím pseudokódem.\n",
    "\n",
    "```\n",
    "U = A, L = I\n",
    "for k = 1 to m-1 do\n",
    "    for j = k+1 to m do\n",
    "        L(j, k) = U(j, k)/U(k, k)\n",
    "        U(j, k:m) = U(j, k:m) - L(j, k)U(k, k:m)\n",
    "    end for\n",
    "end for\n",
    "```\n",
    "\n",
    "**Pozor**: značení `k:m` zde znamená sloupce od `k` po `m` *včetně*.\n",
    "\n",
    "Vašim úkolem je:\n",
    "1) Na základě uvedeného pseudokódu implementovat LU rozklad bez pivotizace do metody `L, U = my_lu(A)`. Metoda tedy bude mít na vstupu čtvercovou matici A a na výstupu dolní trojúhelníkovou matici L a horní trojúhelníkovou matici U takové, že `A = LU`.\n",
    "2) Sestavit náhodnou matici A o rozměrech 5x5 a pomocí ní ověřit, že vaše metoda funguje správně (`A - L @ U` by mělo vrátit matici s nulovými či velmi malými prvky).\n",
    "3) Sestavit náhodný vektor pravé strany `b` o délce 5. \n",
    "4) Pomocí vaší metody `my_lu` a na cvičení implementovaných metod `f_subst` a `b_subst` vyřešit soustavu `Ax = b`.\n",
    "5) Ověřit pomocí metody `np.linalg.solve`, že jste nalezli správné řešení. \n",
    "\n",
    "**Odevzdání**: Celý tento notebook s řešením zašlete na e-mail vyučujícího do 14. 3. 16:00. Jako předmět e-mailu uveďte \"NLA1 DU1\"."
   ]
  },
  {
   "cell_type": "code",
   "execution_count": 11,
   "metadata": {},
   "outputs": [],
   "source": [
    "# Doplňte podle bodu 1)\n",
    "\n",
    "def my_lu(A):\n",
    "    m,n = np.shape(A)\n",
    "    U = A\n",
    "    L = np.eye(m,n)\n",
    "    for k in range(0, m-1):\n",
    "        for j in range(k+1, m):\n",
    "            L[j,k] = U[j,k]/U[k,k]\n",
    "            U[j, k:m+1] = U[j, k:m+1] - L[j,k]*U[k, k:m+1]\n",
    "    return L, U"
   ]
  },
  {
   "cell_type": "code",
   "execution_count": 12,
   "metadata": {},
   "outputs": [
    {
     "name": "stdout",
     "output_type": "stream",
     "text": [
      "[[ 0.000e+00  0.000e+00  0.000e+00  0.000e+00  0.000e+00]\n",
      " [ 0.000e+00  0.000e+00  0.000e+00  0.000e+00  0.000e+00]\n",
      " [ 0.000e+00  0.000e+00  0.000e+00  0.000e+00  0.000e+00]\n",
      " [ 0.000e+00  0.000e+00 -2.776e-17  0.000e+00  1.110e-16]\n",
      " [ 0.000e+00  0.000e+00  0.000e+00  0.000e+00  0.000e+00]]\n"
     ]
    }
   ],
   "source": [
    "# Doplňte podle bodu 2)\n",
    "A = np.random.rand(5,5)\n",
    "Acopy = A.copy()\n",
    "L,U = my_lu(Acopy)\n",
    "print(A - L@U)"
   ]
  },
  {
   "cell_type": "code",
   "execution_count": 22,
   "metadata": {},
   "outputs": [],
   "source": [
    "# Doplňte podle bodu 3)\n",
    "b = np.random.rand(5)"
   ]
  },
  {
   "cell_type": "code",
   "execution_count": 20,
   "metadata": {},
   "outputs": [],
   "source": [
    "# Doplňte podle bodu 4)\n",
    "y = f_subst(L, b)\n",
    "x = b_subst(U, y)"
   ]
  },
  {
   "cell_type": "code",
   "execution_count": 21,
   "metadata": {},
   "outputs": [
    {
     "name": "stdout",
     "output_type": "stream",
     "text": [
      "[ 0.652  0.032  0.46  -0.927  0.685]\n",
      "[ 0.652  0.032  0.46  -0.927  0.685]\n",
      "[ 0.000e+00  2.359e-16 -2.776e-16 -1.110e-16 -1.110e-16]\n"
     ]
    }
   ],
   "source": [
    "# Doplňte podle bodu 5)\n",
    "x_np = np.linalg.solve(A,b)\n",
    "print(x)\n",
    "print(x_np)\n"
   ]
  }
 ],
 "metadata": {
  "kernelspec": {
   "display_name": "Python 3",
   "language": "python",
   "name": "python3"
  },
  "language_info": {
   "codemirror_mode": {
    "name": "ipython",
    "version": 3
   },
   "file_extension": ".py",
   "mimetype": "text/x-python",
   "name": "python",
   "nbconvert_exporter": "python",
   "pygments_lexer": "ipython3",
   "version": "3.10.12"
  },
  "orig_nbformat": 4
 },
 "nbformat": 4,
 "nbformat_minor": 2
}
